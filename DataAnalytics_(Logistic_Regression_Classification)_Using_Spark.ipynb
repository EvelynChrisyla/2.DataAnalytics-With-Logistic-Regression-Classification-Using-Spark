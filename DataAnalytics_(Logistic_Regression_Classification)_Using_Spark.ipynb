{
  "nbformat": 4,
  "nbformat_minor": 0,
  "metadata": {
    "colab": {
      "provenance": [],
      "authorship_tag": "ABX9TyO/prJLu35Annf3zBaZ+4WH",
      "include_colab_link": true
    },
    "kernelspec": {
      "name": "python3",
      "display_name": "Python 3"
    },
    "language_info": {
      "name": "python"
    }
  },
  "cells": [
    {
      "cell_type": "markdown",
      "metadata": {
        "id": "view-in-github",
        "colab_type": "text"
      },
      "source": [
        "<a href=\"https://colab.research.google.com/github/EvelynChrisyla/2.DataAnalytics-With-Logistic-Regression-Classification-Using-Spark.ipynb/blob/main/DataAnalytics_(Logistic_Regression_Classification)_Using_Spark.ipynb\" target=\"_parent\"><img src=\"https://colab.research.google.com/assets/colab-badge.svg\" alt=\"Open In Colab\"/></a>"
      ]
    },
    {
      "cell_type": "code",
      "execution_count": 169,
      "metadata": {
        "colab": {
          "base_uri": "https://localhost:8080/"
        },
        "id": "XCM-NmMp6_xJ",
        "outputId": "3c227a23-ff04-4d0f-923e-e04e4cbc8269"
      },
      "outputs": [
        {
          "output_type": "stream",
          "name": "stdout",
          "text": [
            "Requirement already satisfied: pyspark in /usr/local/lib/python3.10/dist-packages (3.5.0)\n",
            "Requirement already satisfied: py4j==0.10.9.7 in /usr/local/lib/python3.10/dist-packages (from pyspark) (0.10.9.7)\n"
          ]
        }
      ],
      "source": [
        "!pip install pyspark\n",
        "from pyspark.sql import SparkSession\n",
        "from pyspark.sql.functions import*\n",
        "from pyspark.ml.feature import StandardScaler, VectorAssembler #for normalization, vector assembler to make array\n",
        "\n",
        "spark = SparkSession.builder.getOrCreate()"
      ]
    },
    {
      "cell_type": "code",
      "source": [
        "#Import / Load Data from CSV\n",
        "df_train= spark.read.option(\"inferSchema\", \"true\").csv(\"Classification_Train.csv\", header=True)\n",
        "df_test = spark.read.option(\"inferSchema\", \"true\").csv(\"Classification_Test.csv\", header = True)\n",
        "\n",
        "print(\"df_train\")\n",
        "df_train.show()\n",
        "\n",
        "print(\"df_test\")\n",
        "df_test.show()"
      ],
      "metadata": {
        "colab": {
          "base_uri": "https://localhost:8080/"
        },
        "id": "WKsnv0YK7pAR",
        "outputId": "b22291f7-e004-49b4-a9c8-7fce97790735"
      },
      "execution_count": 170,
      "outputs": [
        {
          "output_type": "stream",
          "name": "stdout",
          "text": [
            "df_train\n",
            "+-------------------+------+------+---------------+---------+-------+-------------+---------+\n",
            "|               Name|Gender|Height|Education Level|Eye Color|Married|Salary Income|Depressed|\n",
            "+-------------------+------+------+---------------+---------+-------+-------------+---------+\n",
            "|      Sax Tesseyman|Female|   174|   Intermediate|     Blue|    Yes|     85000000|       No|\n",
            "|        Niels Greet|  Male|   165|   Intermediate|    Black|     No|     14000000|       No|\n",
            "|     Minetta Santry|Female|   160|            Low|    Black|     No|    148000000|      Yes|\n",
            "|     Sherm Gossipin|Female|   144|           High|    Black|     No|     50000000|      Yes|\n",
            "|   Cathie Blackmuir|  Male|   168|   Intermediate|    Black|    Yes|    101000000|       No|\n",
            "|     Early Cardenas|  Male|   151|            Low|    Black|    Yes|    145000000|      Yes|\n",
            "|   Willard Pendrick|Female|   141|   Intermediate|    Brown|     No|     55000000|      Yes|\n",
            "|   Penelopa Spensly|Female|   144|   Intermediate|     Blue|    Yes|     51000000|       No|\n",
            "|     Courtney Easey|Female|   150|           High|     Gray|     No|     97000000|      Yes|\n",
            "|     Denney Eustice|  Male|   151|            Low|    Brown|     No|     41000000|      Yes|\n",
            "|   Archaimbaud Zupa|Female|   161|           High|    Brown|    Yes|     27000000|       No|\n",
            "|       Dylan Pratty|  Male|   163|           High|    Black|    Yes|      3000000|       No|\n",
            "|      Milli Brinded|Female|   174|           High|    Brown|     No|      9000000|      Yes|\n",
            "|   Kacie Giacomazzo|Female|   153|   Intermediate|    Brown|     No|     12000000|      Yes|\n",
            "|  Doretta Siegertsz|  Male|   153|   Intermediate|    Black|    Yes|     81000000|       No|\n",
            "|   Fiorenze Seavers|  Male|   174|           High|     Blue|     No|     53000000|      Yes|\n",
            "|  Harriette Denning|  Male|   169|            Low|     Gray|     No|     10000000|      Yes|\n",
            "| Bidget Rosenschein|  Male|   155|   Intermediate|    Black|    Yes|     55000000|       No|\n",
            "|Barbara-anne McNuff|Female|   147|           High|     Gray|     No|     13000000|      Yes|\n",
            "|    Arielle Squeers|  Male|   182|           High|    Brown|     No|     35000000|      Yes|\n",
            "+-------------------+------+------+---------------+---------+-------+-------------+---------+\n",
            "only showing top 20 rows\n",
            "\n",
            "df_test\n",
            "+------------------+------+------+---------------+---------+-------+-------------+---------+\n",
            "|              Name|Gender|Height|Education Level|Eye Color|Married|Salary Income|Depressed|\n",
            "+------------------+------+------+---------------+---------+-------+-------------+---------+\n",
            "|      Lila Bracher|  Male|   151|            Low|    Black|     No|     74000000|      Yes|\n",
            "|  Archibaldo Bigly|  Male|   162|           High|     Blue|    Yes|     29000000|       No|\n",
            "|      Dion Stopher|  Male|   155|   Intermediate|    Brown|    Yes|    134000000|       No|\n",
            "|    Genna Hallagan|  Male|   143|   Intermediate|     Blue|     No|     13000000|      Yes|\n",
            "|         Alis Fass|Female|   163|            Low|     Blue|    Yes|      7000000|      Yes|\n",
            "|Ellene Cumberbatch|Female|   150|   Intermediate|     Gray|     No|    106000000|      Yes|\n",
            "| Ardella Rossander|  Male|   153|           High|     Gray|     No|     35000000|      Yes|\n",
            "|  Wallache Wandtke|Female|   183|           High|     Gray|    Yes|    124000000|       No|\n",
            "|    Deedee Rembaud|  Male|   156|            Low|    Black|     No|      7000000|      Yes|\n",
            "|    Garrett Siward|  Male|   184|            Low|    Black|     No|    122000000|      Yes|\n",
            "|  Joceline Heasman|Female|   145|           High|    Black|     No|    109000000|      Yes|\n",
            "|     Brana Tudhope|  Male|   175|   Intermediate|     Gray|    Yes|    136000000|       No|\n",
            "|       Ignace Wall|  Male|   157|            Low|     Gray|    Yes|      4000000|       No|\n",
            "|   Kerwinn Mayston|  Male|   178|   Intermediate|    Brown|    Yes|     18000000|       No|\n",
            "|    Agnesse Ulyatt|  Male|   183|   Intermediate|    Brown|    Yes|     35000000|       No|\n",
            "|  Alika Kleinberer|Female|   141|           High|    Black|     No|     73000000|       No|\n",
            "|    Hermann Povall|  Male|   160|           High|     Gray|    Yes|     60000000|       No|\n",
            "|Simonette Roullier|Female|   176|            Low|    Black|     No|     57000000|      Yes|\n",
            "|      Fredi Varlow|Female|   163|            Low|     Blue|     No|     57000000|      Yes|\n",
            "|      Baxy Hugenin|  Male|   145|   Intermediate|    Brown|    Yes|     84000000|       No|\n",
            "+------------------+------+------+---------------+---------+-------+-------------+---------+\n",
            "only showing top 20 rows\n",
            "\n"
          ]
        }
      ]
    },
    {
      "cell_type": "code",
      "source": [
        "#Select Important Data\n",
        "df_train= df_train.select(\"Gender\", \"Education Level\", \"Married\",\"Salary Income\", \"Depressed\")\n",
        "\n",
        "df_test= df_test.select(\"Gender\", \"Education Level\", \"Married\",\"Salary Income\", \"Depressed\")\n",
        "\n",
        "df_train.show()\n",
        "df_test.show()"
      ],
      "metadata": {
        "colab": {
          "base_uri": "https://localhost:8080/"
        },
        "id": "8MSMaeD38-Go",
        "outputId": "5f2e7a4f-7ede-407b-d4f5-5dd337185071"
      },
      "execution_count": 171,
      "outputs": [
        {
          "output_type": "stream",
          "name": "stdout",
          "text": [
            "+------+---------------+-------+-------------+---------+\n",
            "|Gender|Education Level|Married|Salary Income|Depressed|\n",
            "+------+---------------+-------+-------------+---------+\n",
            "|Female|   Intermediate|    Yes|     85000000|       No|\n",
            "|  Male|   Intermediate|     No|     14000000|       No|\n",
            "|Female|            Low|     No|    148000000|      Yes|\n",
            "|Female|           High|     No|     50000000|      Yes|\n",
            "|  Male|   Intermediate|    Yes|    101000000|       No|\n",
            "|  Male|            Low|    Yes|    145000000|      Yes|\n",
            "|Female|   Intermediate|     No|     55000000|      Yes|\n",
            "|Female|   Intermediate|    Yes|     51000000|       No|\n",
            "|Female|           High|     No|     97000000|      Yes|\n",
            "|  Male|            Low|     No|     41000000|      Yes|\n",
            "|Female|           High|    Yes|     27000000|       No|\n",
            "|  Male|           High|    Yes|      3000000|       No|\n",
            "|Female|           High|     No|      9000000|      Yes|\n",
            "|Female|   Intermediate|     No|     12000000|      Yes|\n",
            "|  Male|   Intermediate|    Yes|     81000000|       No|\n",
            "|  Male|           High|     No|     53000000|      Yes|\n",
            "|  Male|            Low|     No|     10000000|      Yes|\n",
            "|  Male|   Intermediate|    Yes|     55000000|       No|\n",
            "|Female|           High|     No|     13000000|      Yes|\n",
            "|  Male|           High|     No|     35000000|      Yes|\n",
            "+------+---------------+-------+-------------+---------+\n",
            "only showing top 20 rows\n",
            "\n",
            "+------+---------------+-------+-------------+---------+\n",
            "|Gender|Education Level|Married|Salary Income|Depressed|\n",
            "+------+---------------+-------+-------------+---------+\n",
            "|  Male|            Low|     No|     74000000|      Yes|\n",
            "|  Male|           High|    Yes|     29000000|       No|\n",
            "|  Male|   Intermediate|    Yes|    134000000|       No|\n",
            "|  Male|   Intermediate|     No|     13000000|      Yes|\n",
            "|Female|            Low|    Yes|      7000000|      Yes|\n",
            "|Female|   Intermediate|     No|    106000000|      Yes|\n",
            "|  Male|           High|     No|     35000000|      Yes|\n",
            "|Female|           High|    Yes|    124000000|       No|\n",
            "|  Male|            Low|     No|      7000000|      Yes|\n",
            "|  Male|            Low|     No|    122000000|      Yes|\n",
            "|Female|           High|     No|    109000000|      Yes|\n",
            "|  Male|   Intermediate|    Yes|    136000000|       No|\n",
            "|  Male|            Low|    Yes|      4000000|       No|\n",
            "|  Male|   Intermediate|    Yes|     18000000|       No|\n",
            "|  Male|   Intermediate|    Yes|     35000000|       No|\n",
            "|Female|           High|     No|     73000000|       No|\n",
            "|  Male|           High|    Yes|     60000000|       No|\n",
            "|Female|            Low|     No|     57000000|      Yes|\n",
            "|Female|            Low|     No|     57000000|      Yes|\n",
            "|  Male|   Intermediate|    Yes|     84000000|       No|\n",
            "+------+---------------+-------+-------------+---------+\n",
            "only showing top 20 rows\n",
            "\n"
          ]
        }
      ]
    },
    {
      "cell_type": "markdown",
      "source": [
        "# **DATA CLEANSING**"
      ],
      "metadata": {
        "id": "4pgOVPb9AQcN"
      }
    },
    {
      "cell_type": "code",
      "source": [
        "# If any data have NA\n",
        "df_train = df_train.na.drop()\n",
        "df_test = df_test.na.drop()"
      ],
      "metadata": {
        "id": "G0ddj1-nAJuQ"
      },
      "execution_count": 172,
      "outputs": []
    },
    {
      "cell_type": "code",
      "source": [
        "#Transform string to num/int\n",
        "\n",
        "#df training\n",
        "df_train = df_train.withColumn(\"Education Level\", when(df_train[\"Education Level\"] == \"Low\",0)\n",
        "                                                  .when(df_train[\"Education Level\"] == \"Intermediate\",1)\n",
        "                                                  .when(df_train[\"Education Level\"] == \"High\",2))\n",
        "\n",
        "df_train = df_train.withColumn(\"Married\", when(df_train[\"Married\"] == \"No\",0)\n",
        "                                          .when(df_train[\"Married\"] == \"Yes\",1))\n",
        "\n",
        "df_train = df_train.withColumn(\"Gender\", when(df_train[\"Gender\"] == \"Male\",0)\n",
        "                                        .when(df_train[\"Gender\"] == \"Female\",1))\n",
        "\n",
        "\n",
        "df_train = df_train.withColumn(\"Depressed\", when(df_train[\"Depressed\"] == \"No\",0)\n",
        "                                        .when(df_train[\"Depressed\"] == \"Yes\",1))\n",
        "\n",
        "\n",
        "#df testing\n",
        "df_test = df_test.withColumn(\"Education Level\", when(df_test[\"Education Level\"] == \"Low\",0)\n",
        "                                                  .when(df_test[\"Education Level\"] == \"Intermediate\",1)\n",
        "                                                  .when(df_test[\"Education Level\"] == \"High\",2))\n",
        "\n",
        "df_test = df_test.withColumn(\"Married\", when(df_test[\"Married\"] == \"No\",0)\n",
        "                                          .when(df_test[\"Married\"] == \"Yes\",1))\n",
        "\n",
        "df_test = df_test.withColumn(\"Gender\", when(df_test[\"Gender\"] == \"Male\",0)\n",
        "                                        .when(df_test[\"Gender\"] == \"Female\",1))\n",
        "\n",
        "\n",
        "df_test = df_test.withColumn(\"Depressed\", when(df_test[\"Depressed\"] == \"No\",0)\n",
        "                                        .when(df_test[\"Depressed\"] == \"Yes\",1))\n",
        "\n",
        "df_train.show(20)\n",
        "df_test.show(20)"
      ],
      "metadata": {
        "colab": {
          "base_uri": "https://localhost:8080/"
        },
        "id": "dj00a-2_7xPx",
        "outputId": "62510d09-afd4-4ef1-a394-adb6d212515d"
      },
      "execution_count": 173,
      "outputs": [
        {
          "output_type": "stream",
          "name": "stdout",
          "text": [
            "+------+---------------+-------+-------------+---------+\n",
            "|Gender|Education Level|Married|Salary Income|Depressed|\n",
            "+------+---------------+-------+-------------+---------+\n",
            "|     1|              1|      1|     85000000|        0|\n",
            "|     0|              1|      0|     14000000|        0|\n",
            "|     1|              0|      0|    148000000|        1|\n",
            "|     1|              2|      0|     50000000|        1|\n",
            "|     0|              1|      1|    101000000|        0|\n",
            "|     0|              0|      1|    145000000|        1|\n",
            "|     1|              1|      0|     55000000|        1|\n",
            "|     1|              1|      1|     51000000|        0|\n",
            "|     1|              2|      0|     97000000|        1|\n",
            "|     0|              0|      0|     41000000|        1|\n",
            "|     1|              2|      1|     27000000|        0|\n",
            "|     0|              2|      1|      3000000|        0|\n",
            "|     1|              2|      0|      9000000|        1|\n",
            "|     1|              1|      0|     12000000|        1|\n",
            "|     0|              1|      1|     81000000|        0|\n",
            "|     0|              2|      0|     53000000|        1|\n",
            "|     0|              0|      0|     10000000|        1|\n",
            "|     0|              1|      1|     55000000|        0|\n",
            "|     1|              2|      0|     13000000|        1|\n",
            "|     0|              2|      0|     35000000|        1|\n",
            "+------+---------------+-------+-------------+---------+\n",
            "only showing top 20 rows\n",
            "\n",
            "+------+---------------+-------+-------------+---------+\n",
            "|Gender|Education Level|Married|Salary Income|Depressed|\n",
            "+------+---------------+-------+-------------+---------+\n",
            "|     0|              0|      0|     74000000|        1|\n",
            "|     0|              2|      1|     29000000|        0|\n",
            "|     0|              1|      1|    134000000|        0|\n",
            "|     0|              1|      0|     13000000|        1|\n",
            "|     1|              0|      1|      7000000|        1|\n",
            "|     1|              1|      0|    106000000|        1|\n",
            "|     0|              2|      0|     35000000|        1|\n",
            "|     1|              2|      1|    124000000|        0|\n",
            "|     0|              0|      0|      7000000|        1|\n",
            "|     0|              0|      0|    122000000|        1|\n",
            "|     1|              2|      0|    109000000|        1|\n",
            "|     0|              1|      1|    136000000|        0|\n",
            "|     0|              0|      1|      4000000|        0|\n",
            "|     0|              1|      1|     18000000|        0|\n",
            "|     0|              1|      1|     35000000|        0|\n",
            "|     1|              2|      0|     73000000|        0|\n",
            "|     0|              2|      1|     60000000|        0|\n",
            "|     1|              0|      0|     57000000|        1|\n",
            "|     1|              0|      0|     57000000|        1|\n",
            "|     0|              1|      1|     84000000|        0|\n",
            "+------+---------------+-------+-------------+---------+\n",
            "only showing top 20 rows\n",
            "\n"
          ]
        }
      ]
    },
    {
      "cell_type": "code",
      "source": [
        "#Normalization\n",
        "\n",
        "trainColumns = df_train.columns\n",
        "trainColumns.remove(\"Depressed\")\n",
        "# print(trainColumns)\n",
        "\n",
        "df_train = VectorAssembler(inputCols= trainColumns, outputCol =\"Features\").transform(df_train)\n",
        "df_train = StandardScaler(inputCol=\"Features\", outputCol =\"NormalizedFeature\").fit(df_train).transform(df_train)\n",
        "df_train.show(5)\n",
        "\n",
        "\n",
        "trainColumns = df_test.columns\n",
        "trainColumns.remove(\"Depressed\")\n",
        "\n",
        "df_test = VectorAssembler(inputCols= trainColumns, outputCol =\"Features\").transform(df_test)\n",
        "df_test = StandardScaler(inputCol=\"Features\", outputCol =\"NormalizedFeature\").fit(df_test).transform(df_test)\n",
        "df_test.show(5)"
      ],
      "metadata": {
        "colab": {
          "base_uri": "https://localhost:8080/"
        },
        "id": "mIZ_PfkG7NaI",
        "outputId": "783b9d1d-90d7-4725-fdbb-2699b6d3aa9b"
      },
      "execution_count": 174,
      "outputs": [
        {
          "output_type": "stream",
          "name": "stdout",
          "text": [
            "+------+---------------+-------+-------------+---------+--------------------+--------------------+\n",
            "|Gender|Education Level|Married|Salary Income|Depressed|            Features|   NormalizedFeature|\n",
            "+------+---------------+-------+-------------+---------+--------------------+--------------------+\n",
            "|     1|              1|      1|     85000000|        0| [1.0,1.0,1.0,8.5E7]|[1.99995775711396...|\n",
            "|     0|              1|      0|     14000000|        0| [0.0,1.0,0.0,1.4E7]|[0.0,1.2959574236...|\n",
            "|     1|              0|      0|    148000000|        1|[1.0,0.0,0.0,1.48E8]|[1.99995775711396...|\n",
            "|     1|              2|      0|     50000000|        1| [1.0,2.0,0.0,5.0E7]|[1.99995775711396...|\n",
            "|     0|              1|      1|    101000000|        0|[0.0,1.0,1.0,1.01E8]|[0.0,1.2959574236...|\n",
            "+------+---------------+-------+-------------+---------+--------------------+--------------------+\n",
            "only showing top 5 rows\n",
            "\n",
            "+------+---------------+-------+-------------+---------+--------------------+--------------------+\n",
            "|Gender|Education Level|Married|Salary Income|Depressed|            Features|   NormalizedFeature|\n",
            "+------+---------------+-------+-------------+---------+--------------------+--------------------+\n",
            "|     0|              0|      0|     74000000|        1|     (4,[3],[7.4E7])|(4,[3],[1.8039685...|\n",
            "|     0|              2|      1|     29000000|        0| [0.0,2.0,1.0,2.9E7]|[0.0,2.5497438235...|\n",
            "|     0|              1|      1|    134000000|        0|[0.0,1.0,1.0,1.34E8]|[0.0,1.2748719117...|\n",
            "|     0|              1|      0|     13000000|        1| [0.0,1.0,0.0,1.3E7]|[0.0,1.2748719117...|\n",
            "|     1|              0|      1|      7000000|        1|[1.0,0.0,1.0,7000...|[1.99953592945503...|\n",
            "+------+---------------+-------+-------------+---------+--------------------+--------------------+\n",
            "only showing top 5 rows\n",
            "\n"
          ]
        }
      ]
    },
    {
      "cell_type": "code",
      "source": [
        "df_train.select(\"NormalizedFeature\").show(10,False)"
      ],
      "metadata": {
        "colab": {
          "base_uri": "https://localhost:8080/"
        },
        "id": "sHagd-86KaUZ",
        "outputId": "75706df9-6ecb-48a2-82c4-9ffdec834886"
      },
      "execution_count": 175,
      "outputs": [
        {
          "output_type": "stream",
          "name": "stdout",
          "text": [
            "+-----------------------------------------------------------------------------+\n",
            "|NormalizedFeature                                                            |\n",
            "+-----------------------------------------------------------------------------+\n",
            "|[1.9999577571139613,1.2959574236207398,2.0004291810120303,2.0520111267842664]|\n",
            "|[0.0,1.2959574236207398,0.0,0.3379783032350556]                              |\n",
            "|[1.9999577571139613,0.0,0.0,3.5729134913420166]                              |\n",
            "|[1.9999577571139613,2.5919148472414797,0.0,1.2070653686966273]               |\n",
            "|[0.0,1.2959574236207398,2.0004291810120303,2.438272044767187]                |\n",
            "|[0.0,0.0,2.0004291810120303,3.500489569220219]                               |\n",
            "|[1.9999577571139613,1.2959574236207398,0.0,1.32777190556629]                 |\n",
            "|[1.9999577571139613,1.2959574236207398,2.0004291810120303,1.2312066760705598]|\n",
            "|[1.9999577571139613,2.5919148472414797,0.0,2.341706815271457]                |\n",
            "|(4,[3],[0.9897936023312343])                                                 |\n",
            "+-----------------------------------------------------------------------------+\n",
            "only showing top 10 rows\n",
            "\n"
          ]
        }
      ]
    },
    {
      "cell_type": "code",
      "source": [
        "from pyspark.ml.classification import LogisticRegression #for prediction"
      ],
      "metadata": {
        "id": "SVUOi3LaO6Pz"
      },
      "execution_count": 176,
      "outputs": []
    },
    {
      "cell_type": "code",
      "source": [
        "#Create Model Classification\n",
        "#(df_train) to identify patterns or relationships between these factors and depression\n",
        "model = LogisticRegression(featuresCol=\"NormalizedFeature\", labelCol=\"Depressed\", maxIter =1000).fit(df_train)\n",
        "\n",
        "\n",
        "predictResult = model.transform(df_test)"
      ],
      "metadata": {
        "id": "QVRBReAAPEkI"
      },
      "execution_count": 177,
      "outputs": []
    },
    {
      "cell_type": "code",
      "source": [
        "predictResult.select(\"Depressed\",\"prediction\").show(20)"
      ],
      "metadata": {
        "colab": {
          "base_uri": "https://localhost:8080/"
        },
        "id": "NZ7tKcnTQDNs",
        "outputId": "c3a33939-1b29-41d8-eb6a-25f0f31b4118"
      },
      "execution_count": 178,
      "outputs": [
        {
          "output_type": "stream",
          "name": "stdout",
          "text": [
            "+---------+----------+\n",
            "|Depressed|prediction|\n",
            "+---------+----------+\n",
            "|        1|       1.0|\n",
            "|        0|       0.0|\n",
            "|        0|       0.0|\n",
            "|        1|       1.0|\n",
            "|        1|       1.0|\n",
            "|        1|       1.0|\n",
            "|        1|       1.0|\n",
            "|        0|       0.0|\n",
            "|        1|       1.0|\n",
            "|        1|       1.0|\n",
            "|        1|       0.0|\n",
            "|        0|       0.0|\n",
            "|        0|       1.0|\n",
            "|        0|       0.0|\n",
            "|        0|       0.0|\n",
            "|        0|       1.0|\n",
            "|        0|       0.0|\n",
            "|        1|       1.0|\n",
            "|        1|       1.0|\n",
            "|        0|       0.0|\n",
            "+---------+----------+\n",
            "only showing top 20 rows\n",
            "\n"
          ]
        }
      ]
    },
    {
      "cell_type": "code",
      "source": [
        "from pyspark.ml.evaluation import BinaryClassificationEvaluator # to find accuracy"
      ],
      "metadata": {
        "id": "Ed65wFj6Rbrh"
      },
      "execution_count": 179,
      "outputs": []
    },
    {
      "cell_type": "code",
      "source": [
        "# #The predicted results are compared with the actual\n",
        "# labels that have been recorded in the “Depressed” column\n",
        "# to evaluate the model performance\n",
        "evaluator = BinaryClassificationEvaluator(labelCol =\"Depressed\")\n",
        "accuracy = evaluator.evaluate(predictResult)\n",
        "\n",
        "print(f\"Accuracy: {accuracy * 100}%\")"
      ],
      "metadata": {
        "colab": {
          "base_uri": "https://localhost:8080/"
        },
        "id": "y6BzKAr1Ri0K",
        "outputId": "39ca3ff6-d6d5-4547-9d1a-03930e6f094e"
      },
      "execution_count": 181,
      "outputs": [
        {
          "output_type": "stream",
          "name": "stdout",
          "text": [
            "Accuracy: 87.06413015098448%\n"
          ]
        }
      ]
    }
  ]
}